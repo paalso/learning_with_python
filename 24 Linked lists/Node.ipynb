{
 "cells": [
  {
   "cell_type": "markdown",
   "metadata": {},
   "source": [
    "## [Linked lists¶](http://openbookproject.net/thinkcs/python/english3e/linked_lists.html)"
   ]
  },
  {
   "cell_type": "code",
   "execution_count": 3,
   "metadata": {},
   "outputs": [],
   "source": [
    "class Node:\n",
    "    def __init__(self, cargo=None, next=None):\n",
    "        self.cargo = cargo\n",
    "        self.next = next\n",
    "\n",
    "    def __str__(self):\n",
    "        return str(self.cargo)"
   ]
  },
  {
   "cell_type": "code",
   "execution_count": 4,
   "metadata": {},
   "outputs": [],
   "source": [
    "# Printing list functions\n",
    "\n",
    "def print_list(node):\n",
    "    print(\"[\", end=\"\")\n",
    "    while node:\n",
    "        end_ = \", \" if (next_ := node.next) else \"\"\n",
    "        print(node, end=end_)\n",
    "        node = next_\n",
    "    print(\"]\")\n",
    "\n",
    "\n",
    "def print_backward(node):\n",
    "    if node is None:\n",
    "        return\n",
    "    head, tail = node, node.next\n",
    "    print_backward(tail)\n",
    "    print(head, end = \" \")\n",
    "\n",
    "    \n",
    "def print_backward_nicely(node):\n",
    "    print(\"[ \", end=\"\")\n",
    "    print_backward(node)\n",
    "    print(\"]\", end=\"\\n\")\n"
   ]
  },
  {
   "cell_type": "code",
   "execution_count": 5,
   "metadata": {},
   "outputs": [],
   "source": [
    "# Sample list\n",
    "\n",
    "node3 = Node(3, None)\n",
    "node2 = Node(2, node3)\n",
    "node1 = Node(1, node2)\n",
    "\n",
    "node = Node(1, None)\n",
    "empty_node = Node()"
   ]
  },
  {
   "cell_type": "code",
   "execution_count": 6,
   "metadata": {},
   "outputs": [
    {
     "name": "stdout",
     "output_type": "stream",
     "text": [
      "Printing forward:\n",
      "[1, 2, 3]\n",
      "empty list:\n",
      "[None]\n",
      "singleton:\n",
      "[3]\n"
     ]
    }
   ],
   "source": [
    "# Printing forward\n",
    "\n",
    "print(\"Printing forward:\")\n",
    "print_list(node1)\n",
    "print(\"empty list:\")\n",
    "print_list(empty_node)\n",
    "print(\"singleton:\")\n",
    "print_list(node3)"
   ]
  },
  {
   "cell_type": "code",
   "execution_count": 7,
   "metadata": {},
   "outputs": [
    {
     "name": "stdout",
     "output_type": "stream",
     "text": [
      "\n",
      "Printing backward:\n",
      "3 2 1 empty list:\n",
      "None singleton:\n",
      "3 "
     ]
    }
   ],
   "source": [
    "# Printing backward\n",
    "\n",
    "print()\n",
    "print(\"Printing backward:\")\n",
    "print_backward(node1)\n",
    "print(\"empty list:\")\n",
    "print_backward(empty_node)\n",
    "print(\"singleton:\")\n",
    "print_backward(node3)"
   ]
  },
  {
   "cell_type": "code",
   "execution_count": 8,
   "metadata": {},
   "outputs": [
    {
     "name": "stdout",
     "output_type": "stream",
     "text": [
      "\n",
      "\n",
      "Printing backward nicely:\n",
      "[ 3 2 1 ]\n",
      "empty list:\n",
      "[ None ]\n",
      "singleton:\n",
      "[ 3 ]\n"
     ]
    }
   ],
   "source": [
    "# Printing backward nicely\n",
    "\n",
    "print(\"\\n\")\n",
    "print(\"Printing backward nicely:\")\n",
    "print_backward_nicely(node1)\n",
    "print(\"empty list:\")\n",
    "print_backward_nicely(empty_node)\n",
    "print(\"singleton:\")\n",
    "print_backward_nicely(node3)"
   ]
  },
  {
   "cell_type": "code",
   "execution_count": 9,
   "metadata": {},
   "outputs": [],
   "source": [
    "# What happens if you invoke this method and pass a list with only one\n",
    "# element (a singleton)? What happens if you pass the empty list as\n",
    "# an argument? Is there a precondition for this method? If so, fix\n",
    "# the method to handle a violation of the precondition in a reasonable way\n",
    "\n",
    "def remove_second(node):\n",
    "    \"\"\" Removes the second node (if exists) in a list\"\"\"\n",
    "    if list is None or node.next is None:\n",
    "        return\n",
    "    second = node.next\n",
    "    node.next = second.next\n",
    "    second.next = None\n",
    "    return second"
   ]
  },
  {
   "cell_type": "code",
   "execution_count": 10,
   "metadata": {},
   "outputs": [
    {
     "name": "stdout",
     "output_type": "stream",
     "text": [
      "Removing the second node in a long list\n",
      "----------------------------------------\n",
      "Original list:\n",
      "[1, 2, 3]\n",
      "List with removed 2nd node:\n",
      "[1, 3]\n",
      "Removed node:\n",
      "2\n"
     ]
    }
   ],
   "source": [
    "# Removing the second node in a long list\n",
    "\n",
    "node = node1\n",
    "print(\"Removing the second node in a long list\")\n",
    "print(\"----------------------------------------\")\n",
    "print(\"Original list:\")\n",
    "print_list(node)\n",
    "removed_node = remove_second(node1)\n",
    "print(\"List with removed 2nd node:\")\n",
    "print_list(node)\n",
    "print(\"Removed node:\")\n",
    "print(removed_node)"
   ]
  },
  {
   "cell_type": "code",
   "execution_count": 11,
   "metadata": {},
   "outputs": [
    {
     "name": "stdout",
     "output_type": "stream",
     "text": [
      "Removing the second node in a 2-nodes list\n",
      "--------------------------------------------\n",
      "Original list:\n",
      "[1, 3]\n",
      "List with removed 2nd node:\n",
      "[1]\n",
      "Removed node:\n",
      "3\n"
     ]
    }
   ],
   "source": [
    "# Removing the second node in a 2-nodes list\n",
    "\n",
    "print(\"Removing the second node in a 2-nodes list\")\n",
    "print(\"--------------------------------------------\")\n",
    "print(\"Original list:\")\n",
    "print_list(node)\n",
    "removed_node = remove_second(node)\n",
    "print(\"List with removed 2nd node:\")\n",
    "print_list(node)\n",
    "print(\"Removed node:\")\n",
    "print(removed_node)\n"
   ]
  },
  {
   "cell_type": "code",
   "execution_count": 12,
   "metadata": {},
   "outputs": [
    {
     "name": "stdout",
     "output_type": "stream",
     "text": [
      "Removing the second node in a singleton list\n",
      "---------------------------------------------\n",
      "Original list:\n",
      "[1]\n",
      "List with removed 2nd node:\n",
      "[1]\n",
      "Removed node:\n",
      "None\n"
     ]
    }
   ],
   "source": [
    "# Removing the second node in a singleton list\n",
    "\n",
    "node = node1\n",
    "print(\"Removing the second node in a singleton list\")\n",
    "print(\"---------------------------------------------\")\n",
    "print(\"Original list:\")\n",
    "print_list(node)\n",
    "removed_node = remove_second(node)\n",
    "print(\"List with removed 2nd node:\")\n",
    "print_list(node)\n",
    "print(\"Removed node:\")\n",
    "print(removed_node)"
   ]
  },
  {
   "cell_type": "code",
   "execution_count": 13,
   "metadata": {},
   "outputs": [
    {
     "name": "stdout",
     "output_type": "stream",
     "text": [
      "Removing the second node in an empty list\n",
      "------------------------------------------\n",
      "Original list:\n",
      "[None]\n",
      "List with removed 2nd node:\n",
      "[None]\n",
      "Removed node:\n",
      "None\n"
     ]
    }
   ],
   "source": [
    "# Removing the second node in an empty list\n",
    "\n",
    "node = Node()\n",
    "print(\"Removing the second node in an empty list\")\n",
    "print(\"------------------------------------------\")\n",
    "print(\"Original list:\")\n",
    "print_list(node)\n",
    "removed_node = remove_second(node)\n",
    "print(\"List with removed 2nd node:\")\n",
    "print_list(node)\n",
    "print(\"Removed node:\")\n",
    "print(removed_node)"
   ]
  },
  {
   "cell_type": "code",
   "execution_count": 14,
   "metadata": {},
   "outputs": [],
   "source": [
    "def find_nth(node, pos):\n",
    "    \"\"\"\n",
    "    Finds node in position pos in list node\n",
    "    \"\"\"\n",
    "    if pos < 0:\n",
    "        raise IndexError(\"IndexError: list index({}) out of range\".format(pos))\n",
    "    i = 0\n",
    "    while node:\n",
    "        if i == pos:\n",
    "            return node\n",
    "        node = node.next\n",
    "        i += 1\n",
    "    raise IndexError(\"IndexError: list index({}) out of range\".format(pos))"
   ]
  },
  {
   "cell_type": "code",
   "execution_count": 15,
   "metadata": {},
   "outputs": [],
   "source": [
    "def remove_nth(node, pos):\n",
    "    \"\"\"\n",
    "    Removes node in position pos in list node\n",
    "    \"\"\"\n",
    "    if pos < 0:\n",
    "        raise IndexError(\"IndexError: list index({}) out of range\".format(pos))\n",
    "    try:\n",
    "        prev_node = find_nth(node, pos - 1)\n",
    "        pos_node = prev_node.next\n",
    "        prev_node.next = pos_node.next\n",
    "        pos_node.next = None\n",
    "        return pos_node\n",
    "    except:\n",
    "        raise IndexError(\"IndexError: list index({}) out of range\".format(pos))"
   ]
  },
  {
   "cell_type": "code",
   "execution_count": 16,
   "metadata": {},
   "outputs": [
    {
     "name": "stdout",
     "output_type": "stream",
     "text": [
      "[1, 2, 3, 4, 5]\n"
     ]
    }
   ],
   "source": [
    "# Sample list\n",
    "node5 = Node(5, None)\n",
    "node4 = Node(4, node5)\n",
    "node3 = Node(3, node4)\n",
    "node2 = Node(2, node3)\n",
    "node1 = Node(1, node2)\n",
    "node = node1\n",
    "\n",
    "print_list(node)"
   ]
  },
  {
   "cell_type": "code",
   "execution_count": 17,
   "metadata": {},
   "outputs": [
    {
     "name": "stdout",
     "output_type": "stream",
     "text": [
      "1\n",
      "2\n",
      "3\n",
      "IndexError: list index(-1) out of range\n",
      "IndexError: list index(5) out of range\n"
     ]
    }
   ],
   "source": [
    "# Tests of find_nth for a long list\n",
    "print(find_nth(node, 0))\n",
    "print(find_nth(node, 1))\n",
    "print(find_nth(node, 2))\n",
    "assert find_nth(node, 0) == node1\n",
    "assert find_nth(node, 1) == node2\n",
    "assert find_nth(node, 4) == node5\n",
    "\n",
    "# Must throw IndexError exception\n",
    "try:\n",
    "    find_nth(node, -1)\n",
    "except IndexError as e:\n",
    "    print(e)\n",
    "\n",
    "# Must throw IndexError exception\n",
    "try:\n",
    "    find_nth(node, 5)\n",
    "except IndexError as e:\n",
    "    print(e)"
   ]
  },
  {
   "cell_type": "code",
   "execution_count": 18,
   "metadata": {},
   "outputs": [
    {
     "name": "stdout",
     "output_type": "stream",
     "text": [
      "IndexError: list index(-1) out of range\n",
      "IndexError: list index(1) out of range\n"
     ]
    }
   ],
   "source": [
    "# Tests of find_nth for a singleton list\n",
    "node = node5\n",
    "assert find_nth(node, 0) == node5\n",
    "\n",
    "# Must throw IndexError exception\n",
    "try:\n",
    "    find_nth(node, -1)\n",
    "except IndexError as e:\n",
    "    print(e)\n",
    "\n",
    "# Must throw IndexError exception\n",
    "try:\n",
    "    find_nth(node, 1)\n",
    "except IndexError as e:\n",
    "    print(e)\n"
   ]
  },
  {
   "cell_type": "code",
   "execution_count": 19,
   "metadata": {},
   "outputs": [
    {
     "name": "stdout",
     "output_type": "stream",
     "text": [
      "IndexError: list index(1) out of range\n"
     ]
    }
   ],
   "source": [
    "# Tests of find_nth for an empty list\n",
    "node = Node()\n",
    "\n",
    "try:\n",
    "    assert find_nth(node, 0) == node\n",
    "except IndexError as e:\n",
    "    print(e)\n",
    "    \n",
    "# Must throw IndexError exception    \n",
    "try:\n",
    "    find_nth(node, 1)\n",
    "except IndexError as e:\n",
    "    print(e)"
   ]
  },
  {
   "cell_type": "code",
   "execution_count": 20,
   "metadata": {},
   "outputs": [
    {
     "name": "stdout",
     "output_type": "stream",
     "text": [
      "Removing node No 2 in a long list\n",
      "--------------------------------\n",
      "Original list:\n",
      "[1, 2, 3, 4, 5]\n",
      "Position to remove (2) node:\n",
      "3\n",
      "List with removed node 2:\n",
      "[1, 2, 4, 5]\n",
      "Removed node:\n",
      "3\n"
     ]
    }
   ],
   "source": [
    "# Test of remove_nth for a long list\n",
    "pos = 2\n",
    "node = node1\n",
    "print(\"Removing node No {} in a long list\".format(pos))\n",
    "print(\"--------------------------------\")\n",
    "print(\"Original list:\")\n",
    "print_list(node)\n",
    "print(\"Position to remove ({}) node:\".format(pos))\n",
    "print(find_nth(node, pos))\n",
    "removed_node = remove_nth(node, pos)\n",
    "print(\"List with removed node {}:\".format(pos))\n",
    "print_list(node)\n",
    "print(\"Removed node:\")\n",
    "print(removed_node)"
   ]
  },
  {
   "cell_type": "code",
   "execution_count": 22,
   "metadata": {},
   "outputs": [
    {
     "name": "stdout",
     "output_type": "stream",
     "text": [
      "Removing node No 1 in a long list\n",
      "--------------------------------\n",
      "Original list:\n",
      "[1, 4, 5]\n",
      "Position to remove (1) node:\n",
      "4\n",
      "List with removed node 1:\n",
      "[1, 5]\n",
      "Removed node:\n",
      "4\n"
     ]
    }
   ],
   "source": [
    "# Test of remove_nth for a long list\n",
    "pos = 1\n",
    "node = node1\n",
    "print(\"Removing node No {} in a long list\".format(pos))\n",
    "print(\"--------------------------------\")\n",
    "print(\"Original list:\")\n",
    "print_list(node)\n",
    "print(\"Position to remove ({}) node:\".format(pos))\n",
    "print(find_nth(node, pos))\n",
    "removed_node = remove_nth(node, pos)\n",
    "print(\"List with removed node {}:\".format(pos))\n",
    "print_list(node)\n",
    "print(\"Removed node:\")\n",
    "print(removed_node)"
   ]
  },
  {
   "cell_type": "code",
   "execution_count": 23,
   "metadata": {},
   "outputs": [
    {
     "name": "stdout",
     "output_type": "stream",
     "text": [
      "Removing node No 1 in a long list\n",
      "--------------------------------\n",
      "Original list:\n",
      "[1, 5]\n",
      "Position to remove (1) node:\n",
      "5\n",
      "List with removed node 1:\n",
      "[1]\n",
      "Removed node:\n",
      "5\n"
     ]
    }
   ],
   "source": [
    "# Test of remove_nth for a two-nodes list\n",
    "\n",
    "pos = 1\n",
    "node = node1\n",
    "print(\"Removing node No {} in a long list\".format(pos))\n",
    "print(\"--------------------------------\")\n",
    "print(\"Original list:\")\n",
    "print_list(node)\n",
    "print(\"Position to remove ({}) node:\".format(pos))\n",
    "print(find_nth(node, pos))\n",
    "removed_node = remove_nth(node, pos)\n",
    "print(\"List with removed node {}:\".format(pos))\n",
    "print_list(node)\n",
    "print(\"Removed node:\")\n",
    "print(removed_node)"
   ]
  },
  {
   "cell_type": "code",
   "execution_count": 25,
   "metadata": {},
   "outputs": [
    {
     "name": "stdout",
     "output_type": "stream",
     "text": [
      "Removing node No 0 in a long list\n",
      "--------------------------------\n",
      "Original list:\n",
      "[1, 2, 3]\n",
      "Position to remove (0) node:\n",
      "1\n",
      "IndexError: list index(0) out of range\n",
      "Impossible to remove node No 0 in the list\n"
     ]
    }
   ],
   "source": [
    "# Test of remove_nth for the first node of a long list\n",
    "\n",
    "# Test of remove_nth for the first node of a long list\n",
    "\n",
    "node3 = Node(3, None)\n",
    "node2 = Node(2, node3)\n",
    "node1 = Node(1, node2)\n",
    "node = node1\n",
    "pos = 0\n",
    "print(\"Removing node No {} in a long list\".format(pos))\n",
    "print(\"--------------------------------\")\n",
    "print(\"Original list:\")\n",
    "print_list(node)\n",
    "print(\"Position to remove ({}) node:\".format(pos))\n",
    "print(find_nth(node, pos))\n",
    "try:\n",
    "    removed_node = remove_nth(node, pos)\n",
    "    print(\"List with removed node {}:\".format(pos))\n",
    "    print_list(node)\n",
    "    print(\"Removed node:\")\n",
    "    print(removed_node)\n",
    "except IndexError as e:\n",
    "    print(e)\n",
    "    print(\"Impossible to remove node No {} in the list\".format(pos))"
   ]
  }
 ],
 "metadata": {
  "kernelspec": {
   "display_name": "Python 3",
   "language": "python",
   "name": "python3"
  },
  "language_info": {
   "codemirror_mode": {
    "name": "ipython",
    "version": 3
   },
   "file_extension": ".py",
   "mimetype": "text/x-python",
   "name": "python",
   "nbconvert_exporter": "python",
   "pygments_lexer": "ipython3",
   "version": "3.7.4"
  }
 },
 "nbformat": 4,
 "nbformat_minor": 2
}
