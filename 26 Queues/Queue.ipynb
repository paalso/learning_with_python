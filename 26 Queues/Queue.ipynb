{
 "cells": [
  {
   "cell_type": "markdown",
   "metadata": {},
   "source": [
    "## [Queues](http://openbookproject.net/thinkcs/python/english3e/queues.html)"
   ]
  },
  {
   "cell_type": "code",
   "execution_count": 39,
   "metadata": {},
   "outputs": [],
   "source": [
    "class Node:\n",
    "    def __init__(self, cargo=None, next=None):\n",
    "        self.cargo = cargo\n",
    "        self.next = next\n",
    "\n",
    "    def __str__(self):\n",
    "        return str(self.cargo)"
   ]
  },
  {
   "cell_type": "code",
   "execution_count": 44,
   "metadata": {},
   "outputs": [],
   "source": [
    "class Queue:\n",
    "    def __init__(self):\n",
    "        \"\"\"Initialize a new empty queue\"\"\"\n",
    "        self.head = None\n",
    "        self.size = 0\n",
    "\n",
    "    def is_empty(self):\n",
    "        \"\"\"Check whether the queue is empty\"\"\"\n",
    "        return self.size == 0\n",
    "\n",
    "    def __str__(self):\n",
    "        \"\"\"Returns string representation of the queue\"\"\"\n",
    "        tokens = []\n",
    "        current = self.head\n",
    "        while current:\n",
    "            tokens.append(str(current))\n",
    "            current = current.next\n",
    "        return \"[{}]\".format(\", \".join(tokens))\n",
    "\n",
    "    def print_info(self):\n",
    "        \"\"\"Prints full info about the queue\"\"\"\n",
    "        print(\"queue: {}, head: {}, len: {}\"\n",
    "            .format(self, self.head, self.size))\n",
    "        \n",
    "    def insert(self, cargo):\n",
    "        \"\"\"Add a new item to the queue\"\"\"\n",
    "        node = Node(cargo)\n",
    "        if self.is_empty():     # If list is empty the new node goes first else\n",
    "            self.head = node\n",
    "        else:\n",
    "            current = self.head\n",
    "            while current.next:         # Find the last node in the list\n",
    "                current = current.next\n",
    "            current.next = node         # Append the new node\n",
    "        self.size += 1\n",
    "        \n",
    "    def remove(self):\n",
    "        \"\"\"Remove and return an item from the queue. The item that is returned\n",
    "        is the first one that was added\"\"\"\n",
    "        if not self.is_empty():\n",
    "            self.size -= 1\n",
    "            cargo = self.head.cargo\n",
    "            # * чтобы отцепить ссылку next удаляемого node от queue - нужно ли?\n",
    "            # нужно! - см. ниже\n",
    "            current_head = self.head    # *\n",
    "            self.head = self.head.next\n",
    "            current_head.next = None    # *\n",
    "            return cargo\n",
    "\n",
    "    def remove_with_clearing_removed_head_next_link(self):\n",
    "        \"\"\"Remove and return an item from the queue. The item that is returned\n",
    "        is the first one that was added\"\"\"\n",
    "        if not self.is_empty():\n",
    "            self.size -= 1\n",
    "            current_head = self.head    # *\n",
    "            self.head = self.head.next\n",
    "            current_head.next = None    # *\n",
    "            return current_head\n",
    "        \n",
    "    def remove_without_clearing_removed_head_next_link(self):\n",
    "        \"\"\"Remove and return an item from the queue. The item that is returned\n",
    "        is the first one that was added\"\"\"\n",
    "        if not self.is_empty():\n",
    "            self.size -= 1\n",
    "            current_head = self.head\n",
    "            self.head = self.head.next\n",
    "            return current_head\n",
    "        "
   ]
  },
  {
   "cell_type": "code",
   "execution_count": 45,
   "metadata": {},
   "outputs": [
    {
     "name": "stdout",
     "output_type": "stream",
     "text": [
      "Creating new Queue:\n",
      "queue: [], head: None, len: 0\n",
      "\n",
      "Adding new nodes (1, 2, 3) to the Queue:\n",
      "queue: [1], head: 1, len: 1\n",
      "queue: [1, 2], head: 1, len: 2\n",
      "queue: [1, 2, 3], head: 1, len: 3\n",
      "\n",
      "Removing nodes from the Queue:\n",
      "removed node: 1\n",
      "queue: [2, 3], head: 2, len: 2\n",
      "removed node: 2\n",
      "queue: [3], head: 3, len: 1\n",
      "removed node: 3\n",
      "queue: [], head: None, len: 0\n",
      "removed node: None\n",
      "queue: [], head: None, len: 0\n",
      "\n",
      "Adding new nodes (999, 66, 'xxx', (1, 'z')) to the Queue:\n",
      "queue: [999, 66, xxx, (1, 'z')], head: 999, len: 4\n"
     ]
    }
   ],
   "source": [
    "# Work with the Queue\n",
    "\n",
    "print(\"Creating new Queue:\")\n",
    "q = Queue()\n",
    "q.print_info()\n",
    "\n",
    "print(\"\\nAdding new nodes (1, 2, 3) to the Queue:\")\n",
    "q.insert(1)\n",
    "q.print_info()\n",
    "q.insert(2)\n",
    "q.print_info()\n",
    "q.insert(3)\n",
    "q.print_info()\n",
    "\n",
    "print(\"\\nRemoving nodes from the Queue:\")\n",
    "print(\"removed node: {}\".format(q.remove()))\n",
    "q.print_info()\n",
    "print(\"removed node: {}\".format(q.remove()))\n",
    "q.print_info()\n",
    "print(\"removed node: {}\".format(q.remove()))\n",
    "q.print_info()\n",
    "print(\"removed node: {}\".format(q.remove()))\n",
    "q.print_info()\n",
    "\n",
    "print(\"\\nAdding new nodes (999, 66, 'xxx', (1, 'z')) to the Queue:\")\n",
    "q.insert(999)\n",
    "q.insert(66)\n",
    "q.insert('xxx')\n",
    "q.insert((1, 'z'))\n",
    "q.print_info()\n"
   ]
  },
  {
   "cell_type": "code",
   "execution_count": 51,
   "metadata": {
    "scrolled": true
   },
   "outputs": [
    {
     "name": "stdout",
     "output_type": "stream",
     "text": [
      "queue: [1, 2, 3], head: 1, len: 3\n",
      "Removed head: 1\n",
      "Removed head next: None\n",
      "Removed head doesn't refer to the Queue but refers to None!\n",
      "queue: [2, 3], head: 2, len: 2\n"
     ]
    }
   ],
   "source": [
    "# Test of Queue.remove WITH clearing of removed head node next link\n",
    "\n",
    "q = Queue()\n",
    "q.insert(1)\n",
    "q.insert(2)\n",
    "q.insert(3)\n",
    "q.print_info()\n",
    "\n",
    "removed_node = q.remove_with_clearing_removed_head_next_link()\n",
    "print(\"Removed head: {}\".format(removed_node))\n",
    "print(\"Removed head next: {}\".format(removed_node.next))\n",
    "print(\"Removed head doesn't refer to the Queue but refers to None!\")\n",
    "q.print_info()"
   ]
  },
  {
   "cell_type": "code",
   "execution_count": 52,
   "metadata": {
    "scrolled": true
   },
   "outputs": [
    {
     "name": "stdout",
     "output_type": "stream",
     "text": [
      "queue: [1, 2, 3], head: 1, len: 3\n",
      "Removed head: 1\n",
      "Removed head next: 2\n",
      "Removed head still refers to the Queue!\n",
      "queue: [2, 3], head: 2, len: 2\n"
     ]
    }
   ],
   "source": [
    "# Test of Queue.remove WITHOUT clearing of removed head node next link\n",
    "\n",
    "q = Queue()\n",
    "q.insert(1)\n",
    "q.insert(2)\n",
    "q.insert(3)\n",
    "q.print_info()\n",
    "\n",
    "removed_node = q.remove_without_clearing_removed_head_next_link()\n",
    "print(\"Removed head: {}\".format(removed_node))\n",
    "print(\"Removed head next: {}\".format(removed_node.next))\n",
    "print(\"Removed head still refers to the Queue!\")\n",
    "q.print_info()"
   ]
  },
  {
   "cell_type": "code",
   "execution_count": null,
   "metadata": {},
   "outputs": [],
   "source": []
  }
 ],
 "metadata": {
  "kernelspec": {
   "display_name": "Python 3",
   "language": "python",
   "name": "python3"
  },
  "language_info": {
   "codemirror_mode": {
    "name": "ipython",
    "version": 3
   },
   "file_extension": ".py",
   "mimetype": "text/x-python",
   "name": "python",
   "nbconvert_exporter": "python",
   "pygments_lexer": "ipython3",
   "version": "3.7.4"
  }
 },
 "nbformat": 4,
 "nbformat_minor": 2
}
