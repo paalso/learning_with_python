{
 "cells": [
  {
   "cell_type": "code",
   "execution_count": 1,
   "metadata": {},
   "outputs": [],
   "source": [
    "class Tree:\n",
    "    def __init__(self, cargo, left=None, right=None):\n",
    "        self.cargo = cargo\n",
    "        self.left=left\n",
    "        self.right = right\n"
   ]
  },
  {
   "cell_type": "code",
   "execution_count": 5,
   "metadata": {},
   "outputs": [
    {
     "name": "stdout",
     "output_type": "stream",
     "text": [
      "9\n"
     ]
    }
   ],
   "source": [
    "def total(tree):\n",
    "    if tree is None:\n",
    "        return 0\n",
    "    return tree.cargo + total(tree.left) + total(tree.right)\n",
    "\n",
    "tree = Tree(1, Tree(2), Tree(3, Tree(1), Tree(2)))\n",
    "print(total(tree))  # 9"
   ]
  },
  {
   "cell_type": "code",
   "execution_count": 18,
   "metadata": {},
   "outputs": [
    {
     "name": "stdout",
     "output_type": "stream",
     "text": [
      "+ 1 * 2 3 "
     ]
    }
   ],
   "source": [
    "def print_tree_preorder(tree):\n",
    "    if tree is None:\n",
    "        return\n",
    "    print(tree.cargo, end=' ')\n",
    "    print_tree_preorder(tree.left)\n",
    "    print_tree_preorder(tree.right)\n",
    "    \n",
    "    \n",
    "expr_tree = Tree('+', Tree(1), Tree('*', Tree(2), Tree(3)))   # 1 + 2 * 3\n",
    "print_tree_preorder(expr_tree)"
   ]
  },
  {
   "cell_type": "code",
   "execution_count": 17,
   "metadata": {},
   "outputs": [
    {
     "name": "stdout",
     "output_type": "stream",
     "text": [
      "1 10 3 * + "
     ]
    }
   ],
   "source": [
    "def print_tree_postorder(tree):\n",
    "    if tree is None:\n",
    "        return\n",
    "    print_tree_postorder(tree.left)\n",
    "    print_tree_postorder(tree.right)\n",
    "    print(tree.cargo, end=' ')\n",
    "    \n",
    "    \n",
    "expr_tree = Tree('+', Tree(1), Tree('*', Tree(10), Tree(3)))   # 1 + 2 * 3\n",
    "print_tree_postorder(expr_tree)"
   ]
  },
  {
   "cell_type": "code",
   "execution_count": 16,
   "metadata": {},
   "outputs": [
    {
     "name": "stdout",
     "output_type": "stream",
     "text": [
      "1 + 2 * 3 "
     ]
    }
   ],
   "source": [
    "def print_tree_inorder(tree):\n",
    "    if tree is None:\n",
    "        return\n",
    "    print_tree_inorder(tree.left)\n",
    "    print(tree.cargo, end=' ')\n",
    "    print_tree_inorder(tree.right)\n",
    "    \n",
    "    \n",
    "expr_tree = Tree('+', Tree(1), Tree('*', Tree(2), Tree(3)))   # 1 + 2 * 3\n",
    "print_tree_inorder(expr_tree)"
   ]
  },
  {
   "cell_type": "code",
   "execution_count": 19,
   "metadata": {},
   "outputs": [
    {
     "name": "stdout",
     "output_type": "stream",
     "text": [
      "  1\n",
      "+\n",
      "    2\n",
      "  *\n",
      "    3\n"
     ]
    }
   ],
   "source": [
    "def print_tree_indented(tree, level=0):\n",
    "    if tree is None:\n",
    "        return\n",
    "    print_tree_indented(tree.left, level + 1)\n",
    "    print('  ' * level + str(tree.cargo))\n",
    "    print_tree_indented(tree.right, level + 1)\n",
    "\n",
    "\n",
    "expr_tree = Tree('+', Tree(1), Tree('*', Tree(2), Tree(3)))   # 1 + 2 * 3\n",
    "print_tree_indented(expr_tree)"
   ]
  },
  {
   "cell_type": "code",
   "execution_count": null,
   "metadata": {},
   "outputs": [],
   "source": []
  },
  {
   "cell_type": "code",
   "execution_count": null,
   "metadata": {},
   "outputs": [],
   "source": []
  }
 ],
 "metadata": {
  "kernelspec": {
   "display_name": "Python 3",
   "language": "python",
   "name": "python3"
  },
  "language_info": {
   "codemirror_mode": {
    "name": "ipython",
    "version": 3
   },
   "file_extension": ".py",
   "mimetype": "text/x-python",
   "name": "python",
   "nbconvert_exporter": "python",
   "pygments_lexer": "ipython3",
   "version": "3.7.4"
  }
 },
 "nbformat": 4,
 "nbformat_minor": 2
}
